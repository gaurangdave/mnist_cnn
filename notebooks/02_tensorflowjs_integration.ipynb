{
 "cells": [
  {
   "cell_type": "markdown",
   "id": "34140985",
   "metadata": {},
   "source": [
    "# TensorFlowJS Integration\n",
    "* In this notebook, we will convert our final models into JSON compatible with tensorflow.js"
   ]
  },
  {
   "cell_type": "code",
   "execution_count": 1,
   "id": "0a9310e4",
   "metadata": {},
   "outputs": [
    {
     "name": "stderr",
     "output_type": "stream",
     "text": [
      "2025-07-10 14:59:38.558175: E external/local_xla/xla/stream_executor/cuda/cuda_fft.cc:467] Unable to register cuFFT factory: Attempting to register factory for plugin cuFFT when one has already been registered\n",
      "WARNING: All log messages before absl::InitializeLog() is called are written to STDERR\n",
      "E0000 00:00:1752184778.575556   59244 cuda_dnn.cc:8579] Unable to register cuDNN factory: Attempting to register factory for plugin cuDNN when one has already been registered\n",
      "E0000 00:00:1752184778.580487   59244 cuda_blas.cc:1407] Unable to register cuBLAS factory: Attempting to register factory for plugin cuBLAS when one has already been registered\n",
      "W0000 00:00:1752184778.593187   59244 computation_placer.cc:177] computation placer already registered. Please check linkage and avoid linking the same target more than once.\n",
      "W0000 00:00:1752184778.593214   59244 computation_placer.cc:177] computation placer already registered. Please check linkage and avoid linking the same target more than once.\n",
      "W0000 00:00:1752184778.593216   59244 computation_placer.cc:177] computation placer already registered. Please check linkage and avoid linking the same target more than once.\n",
      "W0000 00:00:1752184778.593217   59244 computation_placer.cc:177] computation placer already registered. Please check linkage and avoid linking the same target more than once.\n",
      "2025-07-10 14:59:38.597937: I tensorflow/core/platform/cpu_feature_guard.cc:210] This TensorFlow binary is optimized to use available CPU instructions in performance-critical operations.\n",
      "To enable the following instructions: AVX2 FMA, in other operations, rebuild TensorFlow with the appropriate compiler flags.\n"
     ]
    },
    {
     "data": {
      "text/html": [
       "\n",
       "<p style=\"margin:0px;\">🌲 Try <a href=\"https://ydf.readthedocs.io/en/latest/\" target=\"_blank\">YDF</a>, the successor of\n",
       "    <a href=\"https://www.tensorflow.org/decision_forests\" target=\"_blank\">TensorFlow\n",
       "        Decision Forests</a> using the same algorithms but with more features and faster\n",
       "    training!\n",
       "</p>\n",
       "<div style=\"display: flex; flex-wrap: wrap; margin:5px;max-width: 880px;\">\n",
       "    <div style=\"flex: 1; border-radius: 10px; background-color: F0F0F0; padding: 5px;\">\n",
       "        <p\n",
       "            style=\"font-weight: bold; margin:0px;text-align: center;border-bottom: 1px solid #C0C0C0;margin-bottom: 4px;\">\n",
       "            Old code</p>\n",
       "        <pre style=\"overflow-wrap: anywhere; overflow: auto; margin:0px;font-size: 9pt;\">\n",
       "import tensorflow_decision_forests as tfdf\n",
       "\n",
       "tf_ds = tfdf.keras.pd_dataframe_to_tf_dataset(ds, label=\"l\")\n",
       "model = tfdf.keras.RandomForestModel(label=\"l\")\n",
       "model.fit(tf_ds)\n",
       "</pre>\n",
       "    </div>\n",
       "    <div style=\"width: 5px;\"></div>\n",
       "    <div style=\"flex: 1; border-radius: 10px; background-color: F0F0F0; padding: 5px;\">\n",
       "        <p\n",
       "            style=\"font-weight: bold; margin:0px;text-align: center;border-bottom: 1px solid #C0C0C0;margin-bottom: 4px;\">\n",
       "            New code</p>\n",
       "        <pre style=\"overflow-wrap: anywhere; overflow: auto; margin:0px;font-size: 9pt;\">\n",
       "import ydf\n",
       "\n",
       "model = ydf.RandomForestLearner(label=\"l\").train(ds)\n",
       "</pre>\n",
       "    </div>\n",
       "</div>\n",
       "<p style=\"margin:0px;font-size: 9pt;\">(Learn more in the <a\n",
       "        href=\"https://ydf.readthedocs.io/en/latest/tutorial/migrating_to_ydf/\" target=\"_blank\">migration\n",
       "        guide</a>)</p>\n"
      ],
      "text/plain": [
       "<IPython.core.display.HTML object>"
      ]
     },
     "metadata": {},
     "output_type": "display_data"
    },
    {
     "name": "stderr",
     "output_type": "stream",
     "text": [
      "/home/gaurangdave/workspace/mnist_cnn/venv/lib/python3.12/site-packages/tensorflow_hub/__init__.py:61: UserWarning: pkg_resources is deprecated as an API. See https://setuptools.pypa.io/en/latest/pkg_resources.html. The pkg_resources package is slated for removal as early as 2025-11-30. Refrain from using this package or pin to Setuptools<81.\n",
      "  from pkg_resources import parse_version\n"
     ]
    }
   ],
   "source": [
    "import tensorflowjs as tfjs\n",
    "import tensorflow as tf\n",
    "from pathlib import Path"
   ]
  },
  {
   "cell_type": "markdown",
   "id": "72c354b8",
   "metadata": {},
   "source": [
    "## Convert the Model to TFJS"
   ]
  },
  {
   "cell_type": "code",
   "execution_count": 3,
   "id": "67d5313d",
   "metadata": {},
   "outputs": [],
   "source": [
    "models_dir = Path(\"..\",\"models\")\n",
    "tfjs_dir = Path(\"..\",\"tfjs\")"
   ]
  },
  {
   "cell_type": "code",
   "execution_count": 13,
   "id": "7288a838",
   "metadata": {},
   "outputs": [
    {
     "name": "stderr",
     "output_type": "stream",
     "text": [
      "WARNING:absl:You are saving your model as an HDF5 file via `model.save()` or `keras.saving.save_model(model)`. This file format is considered legacy. We recommend using instead the native Keras format, e.g. `model.save('my_model.keras')` or `keras.saving.save_model(model, 'my_model.keras')`. \n"
     ]
    },
    {
     "name": "stdout",
     "output_type": "stream",
     "text": [
      "failed to lookup keras version from the file,\n",
      "    this is likely a weight only file\n"
     ]
    }
   ],
   "source": [
    "model_name = \"exp_model_version_3.keras\"\n",
    "\n",
    "model_path = Path(models_dir, model_name)\n",
    "\n",
    "## load keras model\n",
    "keras_model =  tf.keras.models.load_model(model_path)\n",
    "\n",
    "tfjs.converters.save_keras_model(model=keras_model, artifacts_dir=tfjs_dir)"
   ]
  },
  {
   "cell_type": "code",
   "execution_count": 14,
   "id": "2a9edfac",
   "metadata": {},
   "outputs": [
    {
     "name": "stdout",
     "output_type": "stream",
     "text": [
      "2025-07-10 15:35:59.054312: E external/local_xla/xla/stream_executor/cuda/cuda_fft.cc:467] Unable to register cuFFT factory: Attempting to register factory for plugin cuFFT when one has already been registered\n",
      "WARNING: All log messages before absl::InitializeLog() is called are written to STDERR\n",
      "E0000 00:00:1752186959.071908   77539 cuda_dnn.cc:8579] Unable to register cuDNN factory: Attempting to register factory for plugin cuDNN when one has already been registered\n",
      "E0000 00:00:1752186959.077160   77539 cuda_blas.cc:1407] Unable to register cuBLAS factory: Attempting to register factory for plugin cuBLAS when one has already been registered\n",
      "W0000 00:00:1752186959.090210   77539 computation_placer.cc:177] computation placer already registered. Please check linkage and avoid linking the same target more than once.\n",
      "W0000 00:00:1752186959.090276   77539 computation_placer.cc:177] computation placer already registered. Please check linkage and avoid linking the same target more than once.\n",
      "W0000 00:00:1752186959.090283   77539 computation_placer.cc:177] computation placer already registered. Please check linkage and avoid linking the same target more than once.\n",
      "W0000 00:00:1752186959.090308   77539 computation_placer.cc:177] computation placer already registered. Please check linkage and avoid linking the same target more than once.\n",
      "\u001b[32m🌲 Try \u001b[0m\u001b[34mhttps://ydf.readthedocs.io\u001b[0m\u001b[32m, the successor of TensorFlow Decision Forests with more features and faster training!\u001b[0m\n",
      "/home/gaurangdave/workspace/mnist_cnn/venv/lib/python3.12/site-packages/tensorflow_hub/__init__.py:61: UserWarning: pkg_resources is deprecated as an API. See https://setuptools.pypa.io/en/latest/pkg_resources.html. The pkg_resources package is slated for removal as early as 2025-11-30. Refrain from using this package or pin to Setuptools<81.\n",
      "  from pkg_resources import parse_version\n",
      "Traceback (most recent call last):\n",
      "  File \"/home/gaurangdave/workspace/mnist_cnn/venv/bin/tensorflowjs_converter\", line 8, in <module>\n",
      "    sys.exit(pip_main())\n",
      "             ^^^^^^^^^^\n",
      "  File \"/home/gaurangdave/workspace/mnist_cnn/venv/lib/python3.12/site-packages/tensorflowjs/converters/converter.py\", line 959, in pip_main\n",
      "    main([' '.join(sys.argv[1:])])\n",
      "  File \"/home/gaurangdave/workspace/mnist_cnn/venv/lib/python3.12/site-packages/tensorflowjs/converters/converter.py\", line 963, in main\n",
      "    convert(argv[0].split(' '))\n",
      "  File \"/home/gaurangdave/workspace/mnist_cnn/venv/lib/python3.12/site-packages/tensorflowjs/converters/converter.py\", line 949, in convert\n",
      "    _dispatch_converter(input_format, output_format, args, quantization_dtype_map,\n",
      "  File \"/home/gaurangdave/workspace/mnist_cnn/venv/lib/python3.12/site-packages/tensorflowjs/converters/converter.py\", line 619, in _dispatch_converter\n",
      "    dispatch_keras_h5_to_tfjs_layers_model_conversion(\n",
      "  File \"/home/gaurangdave/workspace/mnist_cnn/venv/lib/python3.12/site-packages/tensorflowjs/converters/converter.py\", line 84, in dispatch_keras_h5_to_tfjs_layers_model_conversion\n",
      "    h5_file = h5py.File(h5_path, 'r')\n",
      "              ^^^^^^^^^^^^^^^^^^^^^^^\n",
      "  File \"/home/gaurangdave/workspace/mnist_cnn/venv/lib/python3.12/site-packages/h5py/_hl/files.py\", line 564, in __init__\n",
      "    fid = make_fid(name, mode, userblock_size, fapl, fcpl, swmr=swmr)\n",
      "          ^^^^^^^^^^^^^^^^^^^^^^^^^^^^^^^^^^^^^^^^^^^^^^^^^^^^^^^^^^^\n",
      "  File \"/home/gaurangdave/workspace/mnist_cnn/venv/lib/python3.12/site-packages/h5py/_hl/files.py\", line 238, in make_fid\n",
      "    fid = h5f.open(name, flags, fapl=fapl)\n",
      "          ^^^^^^^^^^^^^^^^^^^^^^^^^^^^^^^^\n",
      "  File \"h5py/_objects.pyx\", line 56, in h5py._objects.with_phil.wrapper\n",
      "  File \"h5py/_objects.pyx\", line 57, in h5py._objects.with_phil.wrapper\n",
      "  File \"h5py/h5f.pyx\", line 102, in h5py.h5f.open\n",
      "OSError: Unable to synchronously open file (file signature not found)\n"
     ]
    }
   ],
   "source": [
    "!tensorflowjs_converter --input_format=\"keras\" \"../models/exp_model_version_3.keras\" ../tfjs/"
   ]
  },
  {
   "cell_type": "code",
   "execution_count": null,
   "id": "8c3a296c",
   "metadata": {},
   "outputs": [],
   "source": []
  }
 ],
 "metadata": {
  "kernelspec": {
   "display_name": "venv",
   "language": "python",
   "name": "python3"
  },
  "language_info": {
   "codemirror_mode": {
    "name": "ipython",
    "version": 3
   },
   "file_extension": ".py",
   "mimetype": "text/x-python",
   "name": "python",
   "nbconvert_exporter": "python",
   "pygments_lexer": "ipython3",
   "version": "3.12.2"
  }
 },
 "nbformat": 4,
 "nbformat_minor": 5
}

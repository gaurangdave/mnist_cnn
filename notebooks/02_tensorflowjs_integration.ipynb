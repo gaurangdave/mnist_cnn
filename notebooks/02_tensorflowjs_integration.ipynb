{
 "cells": [
  {
   "cell_type": "markdown",
   "id": "34140985",
   "metadata": {},
   "source": [
    "# TensorFlowJS Integration\n",
    "* In this notebook, we will convert our final models into JSON compatible with tensorflow.js"
   ]
  },
  {
   "cell_type": "code",
   "execution_count": 6,
   "id": "0a9310e4",
   "metadata": {},
   "outputs": [],
   "source": [
    "import tensorflowjs as tfjs\n",
    "import tensorflow as tf\n",
    "from pathlib import Path"
   ]
  },
  {
   "cell_type": "markdown",
   "id": "72c354b8",
   "metadata": {},
   "source": [
    "## Convert the Model to TFJS"
   ]
  },
  {
   "cell_type": "code",
   "execution_count": 7,
   "id": "67d5313d",
   "metadata": {},
   "outputs": [],
   "source": [
    "models_dir = Path(\"..\",\"models\")\n",
    "tfjs_dir = Path(\"..\",\"tfjs\")"
   ]
  },
  {
   "cell_type": "code",
   "execution_count": 10,
   "id": "7288a838",
   "metadata": {},
   "outputs": [
    {
     "name": "stderr",
     "output_type": "stream",
     "text": [
      "WARNING:absl:You are saving your model as an HDF5 file via `model.save()` or `keras.saving.save_model(model)`. This file format is considered legacy. We recommend using instead the native Keras format, e.g. `model.save('my_model.keras')` or `keras.saving.save_model(model, 'my_model.keras')`. \n"
     ]
    },
    {
     "name": "stdout",
     "output_type": "stream",
     "text": [
      "failed to lookup keras version from the file,\n",
      "    this is likely a weight only file\n"
     ]
    }
   ],
   "source": [
    "model_path = Path(models_dir, \"experiment_4_75.keras\")\n",
    "\n",
    "## load keras model\n",
    "keras_model =  tf.keras.models.load_model(model_path)\n",
    "\n",
    "\n",
    "tfjs.converters.save_keras_model(model=keras_model, artifacts_dir=tfjs_dir)"
   ]
  },
  {
   "cell_type": "code",
   "execution_count": null,
   "id": "9f94b1f1",
   "metadata": {},
   "outputs": [],
   "source": []
  }
 ],
 "metadata": {
  "kernelspec": {
   "display_name": "ml",
   "language": "python",
   "name": "python3"
  },
  "language_info": {
   "codemirror_mode": {
    "name": "ipython",
    "version": 3
   },
   "file_extension": ".py",
   "mimetype": "text/x-python",
   "name": "python",
   "nbconvert_exporter": "python",
   "pygments_lexer": "ipython3",
   "version": "3.12.2"
  }
 },
 "nbformat": 4,
 "nbformat_minor": 5
}

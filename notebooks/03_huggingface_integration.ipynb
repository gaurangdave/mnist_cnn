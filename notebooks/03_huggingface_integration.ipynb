{
 "cells": [
  {
   "cell_type": "markdown",
   "id": "4f960747",
   "metadata": {},
   "source": [
    "# Huggingface Integration"
   ]
  },
  {
   "cell_type": "code",
   "execution_count": 3,
   "id": "72afed58",
   "metadata": {},
   "outputs": [],
   "source": [
    "from huggingface_hub import login, HfApi\n",
    "import os\n",
    "import sys\n",
    "import dotenv\n",
    "from pathlib import Path"
   ]
  },
  {
   "cell_type": "code",
   "execution_count": 4,
   "id": "e9b65f05",
   "metadata": {},
   "outputs": [
    {
     "name": "stderr",
     "output_type": "stream",
     "text": [
      "Note: Environment variable`HF_TOKEN` is set and is the current active token independently from the token you've just configured.\n"
     ]
    },
    {
     "name": "stdout",
     "output_type": "stream",
     "text": [
      "Logging in...\n"
     ]
    }
   ],
   "source": [
    "dotenv.load_dotenv()\n",
    "HF_TOKEN = os.getenv(\"HF_TOKEN\")\n",
    "\n",
    "## login huggingface user\n",
    "if HF_TOKEN is None:\n",
    "    print(\"Please set the HF_TOKEN environment variable. This is you hugging face token\")\n",
    "else:\n",
    "    print(\"Logging in...\")\n",
    "    login(HF_TOKEN)"
   ]
  },
  {
   "cell_type": "code",
   "execution_count": 5,
   "id": "cbe17472",
   "metadata": {},
   "outputs": [
    {
     "name": "stdout",
     "output_type": "stream",
     "text": [
      "Logged in as gaurangdave\n"
     ]
    }
   ],
   "source": [
    "## verify login\n",
    "api = HfApi()\n",
    "user = api.whoami()\n",
    "user_name = user['name']\n",
    "print(f\"Logged in as {user_name}\")"
   ]
  },
  {
   "cell_type": "code",
   "execution_count": 6,
   "id": "e26cc949",
   "metadata": {},
   "outputs": [
    {
     "name": "stdout",
     "output_type": "stream",
     "text": [
      "Created repository: https://huggingface.co/gaurangdave/mnist_cnn\n",
      "Created repository: https://huggingface.co/datasets/gaurangdave/mnist_cnn\n"
     ]
    }
   ],
   "source": [
    "## create a model repository on huggingface\n",
    "model_name = \"mnist_cnn\"\n",
    "repo_id = f\"{user_name}/{model_name}\"\n",
    "\n",
    "## create a model repository\n",
    "model_repo = api.create_repo(repo_id=repo_id, repo_type=\"model\", exist_ok=True)\n",
    "print(f\"Created repository: {model_repo}\")\n",
    "\n",
    "## create a data repository\n",
    "model_repo = api.create_repo(repo_id=repo_id, repo_type=\"dataset\", exist_ok=True)\n",
    "print(f\"Created repository: {model_repo}\")"
   ]
  },
  {
   "cell_type": "code",
   "execution_count": 7,
   "id": "a4fec715",
   "metadata": {},
   "outputs": [],
   "source": [
    "## upload all the models to the repository\n",
    "models_root_dir = Path(\"..\", \"models\")\n",
    "\n",
    "def upload_models_in_dir(model_dir):\n",
    "    for model in model_dir.iterdir():\n",
    "        if model.is_dir():\n",
    "            upload_models_in_dir(model)\n",
    "        else: \n",
    "            filename = model.name\n",
    "            ## read path relative to the models directory\n",
    "            path = model.relative_to(models_root_dir)\n",
    "            path_in_repo = f\"{path}\"\n",
    "            api = HfApi()\n",
    "            api.upload_file(path_or_fileobj=model, repo_id=repo_id, path_in_repo=path_in_repo, repo_type=\"model\")\n",
    "            print(f\"Uploaded {filename} to {path}\")"
   ]
  },
  {
   "cell_type": "code",
   "execution_count": 8,
   "id": "5fe99842",
   "metadata": {},
   "outputs": [
    {
     "name": "stderr",
     "output_type": "stream",
     "text": [
      "experiment_4_38.keras: 100%|██████████| 746k/746k [00:00<00:00, 1.52MB/s]\n"
     ]
    },
    {
     "name": "stdout",
     "output_type": "stream",
     "text": [
      "Uploaded experiment_4_38.keras to experiment_4_38.keras\n"
     ]
    },
    {
     "name": "stderr",
     "output_type": "stream",
     "text": [
      "experiment_3_09_0.98.keras: 100%|██████████| 585k/585k [00:00<00:00, 2.19MB/s]\n"
     ]
    },
    {
     "name": "stdout",
     "output_type": "stream",
     "text": [
      "Uploaded experiment_3_09_0.98.keras to experiment_3_09_0.98.keras\n"
     ]
    },
    {
     "name": "stderr",
     "output_type": "stream",
     "text": [
      "experiment_4_06.keras: 100%|██████████| 746k/746k [00:00<00:00, 4.01MB/s]\n"
     ]
    },
    {
     "name": "stdout",
     "output_type": "stream",
     "text": [
      "Uploaded experiment_4_06.keras to experiment_4_06.keras\n"
     ]
    },
    {
     "name": "stderr",
     "output_type": "stream",
     "text": [
      "No files have been modified since last commit. Skipping to prevent empty commit.\n"
     ]
    },
    {
     "name": "stdout",
     "output_type": "stream",
     "text": [
      "Uploaded experiment_3_21_0.99.keras to experiment_3_21_0.99.keras\n"
     ]
    },
    {
     "name": "stderr",
     "output_type": "stream",
     "text": [
      "experiment_3_35_0.99.keras: 100%|██████████| 585k/585k [00:00<00:00, 1.26MB/s]\n"
     ]
    },
    {
     "name": "stdout",
     "output_type": "stream",
     "text": [
      "Uploaded experiment_3_35_0.99.keras to experiment_3_35_0.99.keras\n"
     ]
    },
    {
     "name": "stderr",
     "output_type": "stream",
     "text": [
      "No files have been modified since last commit. Skipping to prevent empty commit.\n"
     ]
    },
    {
     "name": "stdout",
     "output_type": "stream",
     "text": [
      "Uploaded experiment_3_06_0.97.keras to experiment_3_06_0.97.keras\n"
     ]
    },
    {
     "name": "stderr",
     "output_type": "stream",
     "text": [
      "experiment_3_01_0.93.keras: 100%|██████████| 585k/585k [00:00<00:00, 1.26MB/s]\n"
     ]
    },
    {
     "name": "stdout",
     "output_type": "stream",
     "text": [
      "Uploaded experiment_3_01_0.93.keras to experiment_3_01_0.93.keras\n"
     ]
    },
    {
     "name": "stderr",
     "output_type": "stream",
     "text": [
      "saved_model.pb: 100%|██████████| 102k/102k [00:00<00:00, 473kB/s]\n"
     ]
    },
    {
     "name": "stdout",
     "output_type": "stream",
     "text": [
      "Uploaded saved_model.pb to final_prod_model/saved_model.pb\n",
      "Uploaded variables.index to final_prod_model/variables/variables.index\n"
     ]
    },
    {
     "name": "stderr",
     "output_type": "stream",
     "text": [
      "variables.data-00000-of-00001: 100%|██████████| 454k/454k [00:00<00:00, 959kB/s]\n"
     ]
    },
    {
     "name": "stdout",
     "output_type": "stream",
     "text": [
      "Uploaded variables.data-00000-of-00001 to final_prod_model/variables/variables.data-00000-of-00001\n"
     ]
    },
    {
     "name": "stderr",
     "output_type": "stream",
     "text": [
      "fingerprint.pb: 100%|██████████| 79.0/79.0 [00:00<00:00, 234B/s]\n"
     ]
    },
    {
     "name": "stdout",
     "output_type": "stream",
     "text": [
      "Uploaded fingerprint.pb to final_prod_model/fingerprint.pb\n"
     ]
    },
    {
     "name": "stderr",
     "output_type": "stream",
     "text": [
      "exp_model_version_1.h5: 100%|██████████| 277k/277k [00:00<00:00, 736kB/s]\n"
     ]
    },
    {
     "name": "stdout",
     "output_type": "stream",
     "text": [
      "Uploaded exp_model_version_1.h5 to exp_model_version_1.h5\n"
     ]
    },
    {
     "name": "stderr",
     "output_type": "stream",
     "text": [
      "experiment_3_13_0.98.keras: 100%|██████████| 585k/585k [00:00<00:00, 1.77MB/s]\n"
     ]
    },
    {
     "name": "stdout",
     "output_type": "stream",
     "text": [
      "Uploaded experiment_3_13_0.98.keras to experiment_3_13_0.98.keras\n"
     ]
    },
    {
     "name": "stderr",
     "output_type": "stream",
     "text": [
      "exp_functional_model.keras: 100%|██████████| 754k/754k [00:00<00:00, 3.43MB/s]\n"
     ]
    },
    {
     "name": "stdout",
     "output_type": "stream",
     "text": [
      "Uploaded exp_functional_model.keras to exp_functional_model.keras\n"
     ]
    },
    {
     "name": "stderr",
     "output_type": "stream",
     "text": [
      "experiment_3_164_0.99.keras: 100%|██████████| 585k/585k [00:00<00:00, 2.25MB/s]\n"
     ]
    },
    {
     "name": "stdout",
     "output_type": "stream",
     "text": [
      "Uploaded experiment_3_164_0.99.keras to experiment_3_164_0.99.keras\n"
     ]
    },
    {
     "name": "stderr",
     "output_type": "stream",
     "text": [
      "experiment_4_04.keras: 100%|██████████| 746k/746k [00:00<00:00, 1.73MB/s]\n"
     ]
    },
    {
     "name": "stdout",
     "output_type": "stream",
     "text": [
      "Uploaded experiment_4_04.keras to experiment_4_04.keras\n"
     ]
    },
    {
     "name": "stderr",
     "output_type": "stream",
     "text": [
      "No files have been modified since last commit. Skipping to prevent empty commit.\n"
     ]
    },
    {
     "name": "stdout",
     "output_type": "stream",
     "text": [
      "Uploaded experiment_3_05_0.97.keras to experiment_3_05_0.97.keras\n"
     ]
    },
    {
     "name": "stderr",
     "output_type": "stream",
     "text": [
      "experiment_3_08_0.98.keras: 100%|██████████| 585k/585k [00:00<00:00, 3.06MB/s]\n"
     ]
    },
    {
     "name": "stdout",
     "output_type": "stream",
     "text": [
      "Uploaded experiment_3_08_0.98.keras to experiment_3_08_0.98.keras\n"
     ]
    },
    {
     "name": "stderr",
     "output_type": "stream",
     "text": [
      "No files have been modified since last commit. Skipping to prevent empty commit.\n"
     ]
    },
    {
     "name": "stdout",
     "output_type": "stream",
     "text": [
      "Uploaded experiment_3_70_0.99.keras to experiment_3_70_0.99.keras\n"
     ]
    },
    {
     "name": "stderr",
     "output_type": "stream",
     "text": [
      "experiment_3_03_0.97.keras: 100%|██████████| 585k/585k [00:00<00:00, 2.55MB/s]\n"
     ]
    },
    {
     "name": "stdout",
     "output_type": "stream",
     "text": [
      "Uploaded experiment_3_03_0.97.keras to experiment_3_03_0.97.keras\n"
     ]
    },
    {
     "name": "stderr",
     "output_type": "stream",
     "text": [
      "experiment_3_18_0.98.keras: 100%|██████████| 585k/585k [00:00<00:00, 2.33MB/s]\n"
     ]
    },
    {
     "name": "stdout",
     "output_type": "stream",
     "text": [
      "Uploaded experiment_3_18_0.98.keras to experiment_3_18_0.98.keras\n"
     ]
    },
    {
     "name": "stderr",
     "output_type": "stream",
     "text": [
      "experiment_3_02_0.95.keras: 100%|██████████| 585k/585k [00:00<00:00, 2.18MB/s]\n"
     ]
    },
    {
     "name": "stdout",
     "output_type": "stream",
     "text": [
      "Uploaded experiment_3_02_0.95.keras to experiment_3_02_0.95.keras\n"
     ]
    },
    {
     "name": "stderr",
     "output_type": "stream",
     "text": [
      "experiment_3_23_0.99.keras: 100%|██████████| 585k/585k [00:00<00:00, 3.49MB/s]\n"
     ]
    },
    {
     "name": "stdout",
     "output_type": "stream",
     "text": [
      "Uploaded experiment_3_23_0.99.keras to experiment_3_23_0.99.keras\n"
     ]
    },
    {
     "name": "stderr",
     "output_type": "stream",
     "text": [
      "experiment_4_55.keras: 100%|██████████| 746k/746k [00:00<00:00, 3.77MB/s]\n"
     ]
    },
    {
     "name": "stdout",
     "output_type": "stream",
     "text": [
      "Uploaded experiment_4_55.keras to experiment_4_55.keras\n"
     ]
    },
    {
     "name": "stderr",
     "output_type": "stream",
     "text": [
      "exp_no_data_augmentation.h5: 100%|██████████| 425k/425k [00:00<00:00, 2.68MB/s]\n"
     ]
    },
    {
     "name": "stdout",
     "output_type": "stream",
     "text": [
      "Uploaded exp_no_data_augmentation.h5 to exp_no_data_augmentation.h5\n",
      "Uploaded config.json to config.json\n"
     ]
    },
    {
     "name": "stderr",
     "output_type": "stream",
     "text": [
      "No files have been modified since last commit. Skipping to prevent empty commit.\n"
     ]
    },
    {
     "name": "stdout",
     "output_type": "stream",
     "text": [
      "Uploaded experiment_3_26_0.99.keras to experiment_3_26_0.99.keras\n"
     ]
    },
    {
     "name": "stderr",
     "output_type": "stream",
     "text": [
      "No files have been modified since last commit. Skipping to prevent empty commit.\n"
     ]
    },
    {
     "name": "stdout",
     "output_type": "stream",
     "text": [
      "Uploaded experiment_3_03_0.96.keras to experiment_3_03_0.96.keras\n"
     ]
    },
    {
     "name": "stderr",
     "output_type": "stream",
     "text": [
      "experiment_3_07_0.98.keras: 100%|██████████| 585k/585k [00:00<00:00, 2.51MB/s]\n"
     ]
    },
    {
     "name": "stdout",
     "output_type": "stream",
     "text": [
      "Uploaded experiment_3_07_0.98.keras to experiment_3_07_0.98.keras\n"
     ]
    },
    {
     "name": "stderr",
     "output_type": "stream",
     "text": [
      "experiment_4_01_temp.h5: 100%|██████████| 752k/752k [00:00<00:00, 4.29MB/s]\n"
     ]
    },
    {
     "name": "stdout",
     "output_type": "stream",
     "text": [
      "Uploaded experiment_4_01_temp.h5 to experiment_4_01_temp.h5\n"
     ]
    },
    {
     "name": "stderr",
     "output_type": "stream",
     "text": [
      "experiment_4_13.keras: 100%|██████████| 746k/746k [00:00<00:00, 3.42MB/s]\n"
     ]
    },
    {
     "name": "stdout",
     "output_type": "stream",
     "text": [
      "Uploaded experiment_4_13.keras to experiment_4_13.keras\n"
     ]
    },
    {
     "name": "stderr",
     "output_type": "stream",
     "text": [
      "exp_model_version_2.keras: 100%|██████████| 746k/746k [00:00<00:00, 3.29MB/s]\n"
     ]
    },
    {
     "name": "stdout",
     "output_type": "stream",
     "text": [
      "Uploaded exp_model_version_2.keras to exp_model_version_2.keras\n"
     ]
    },
    {
     "name": "stderr",
     "output_type": "stream",
     "text": [
      "experiment_4_01.keras: 100%|██████████| 746k/746k [00:00<00:00, 1.44MB/s]\n"
     ]
    },
    {
     "name": "stdout",
     "output_type": "stream",
     "text": [
      "Uploaded experiment_4_01.keras to experiment_4_01.keras\n"
     ]
    },
    {
     "name": "stderr",
     "output_type": "stream",
     "text": [
      "No files have been modified since last commit. Skipping to prevent empty commit.\n"
     ]
    },
    {
     "name": "stdout",
     "output_type": "stream",
     "text": [
      "Uploaded experiment_3_10_0.98.keras to experiment_3_10_0.98.keras\n"
     ]
    },
    {
     "name": "stderr",
     "output_type": "stream",
     "text": [
      "experiment_4_03.keras: 100%|██████████| 746k/746k [00:00<00:00, 4.18MB/s]\n"
     ]
    },
    {
     "name": "stdout",
     "output_type": "stream",
     "text": [
      "Uploaded experiment_4_03.keras to experiment_4_03.keras\n"
     ]
    },
    {
     "name": "stderr",
     "output_type": "stream",
     "text": [
      "No files have been modified since last commit. Skipping to prevent empty commit.\n"
     ]
    },
    {
     "name": "stdout",
     "output_type": "stream",
     "text": [
      "Uploaded experiment_3_04_0.96.keras to experiment_3_04_0.96.keras\n"
     ]
    },
    {
     "name": "stderr",
     "output_type": "stream",
     "text": [
      "saved_model.keras: 100%|██████████| 1.24M/1.24M [00:00<00:00, 2.02MB/s]\n"
     ]
    },
    {
     "name": "stdout",
     "output_type": "stream",
     "text": [
      "Uploaded saved_model.keras to saved_model.keras\n"
     ]
    },
    {
     "name": "stderr",
     "output_type": "stream",
     "text": [
      "exp_model_version_3.keras: 100%|██████████| 746k/746k [00:00<00:00, 3.99MB/s]\n"
     ]
    },
    {
     "name": "stdout",
     "output_type": "stream",
     "text": [
      "Uploaded exp_model_version_3.keras to exp_model_version_3.keras\n"
     ]
    },
    {
     "name": "stderr",
     "output_type": "stream",
     "text": [
      "model.weights.h5: 100%|██████████| 734k/734k [00:00<00:00, 2.55MB/s]\n"
     ]
    },
    {
     "name": "stdout",
     "output_type": "stream",
     "text": [
      "Uploaded model.weights.h5 to model.weights.h5\n",
      "Uploaded metadata.json to metadata.json\n"
     ]
    },
    {
     "name": "stderr",
     "output_type": "stream",
     "text": [
      "No files have been modified since last commit. Skipping to prevent empty commit.\n"
     ]
    },
    {
     "name": "stdout",
     "output_type": "stream",
     "text": [
      "Uploaded experiment_3_14_0.99.keras to experiment_3_14_0.99.keras\n"
     ]
    },
    {
     "name": "stderr",
     "output_type": "stream",
     "text": [
      "exp_no_data_augmentation_functional.h5: 100%|██████████| 271k/271k [00:00<00:00, 1.32MB/s]\n"
     ]
    },
    {
     "name": "stdout",
     "output_type": "stream",
     "text": [
      "Uploaded exp_no_data_augmentation_functional.h5 to exp_no_data_augmentation_functional.h5\n"
     ]
    },
    {
     "name": "stderr",
     "output_type": "stream",
     "text": [
      "exp_functional_model.h5: 100%|██████████| 750k/750k [00:00<00:00, 3.50MB/s]\n"
     ]
    },
    {
     "name": "stdout",
     "output_type": "stream",
     "text": [
      "Uploaded exp_functional_model.h5 to exp_functional_model.h5\n"
     ]
    },
    {
     "name": "stderr",
     "output_type": "stream",
     "text": [
      "experiment_3_05_0.98.keras: 100%|██████████| 585k/585k [00:00<00:00, 2.45MB/s]\n"
     ]
    },
    {
     "name": "stdout",
     "output_type": "stream",
     "text": [
      "Uploaded experiment_3_05_0.98.keras to experiment_3_05_0.98.keras\n"
     ]
    },
    {
     "name": "stderr",
     "output_type": "stream",
     "text": [
      "exp_model_version_3.h5: 100%|██████████| 752k/752k [00:00<00:00, 2.78MB/s]\n"
     ]
    },
    {
     "name": "stdout",
     "output_type": "stream",
     "text": [
      "Uploaded exp_model_version_3.h5 to exp_model_version_3.h5\n"
     ]
    },
    {
     "name": "stderr",
     "output_type": "stream",
     "text": [
      "experiment_3_92_0.99.keras: 100%|██████████| 585k/585k [00:00<00:00, 3.21MB/s]\n"
     ]
    },
    {
     "name": "stdout",
     "output_type": "stream",
     "text": [
      "Uploaded experiment_3_92_0.99.keras to experiment_3_92_0.99.keras\n",
      "Uploaded model.json to tfjs_graph_model/model.json\n"
     ]
    },
    {
     "name": "stderr",
     "output_type": "stream",
     "text": [
      "group1-shard1of1.bin: 100%|██████████| 225k/225k [00:00<00:00, 998kB/s]\n"
     ]
    },
    {
     "name": "stdout",
     "output_type": "stream",
     "text": [
      "Uploaded group1-shard1of1.bin to tfjs_graph_model/group1-shard1of1.bin\n"
     ]
    },
    {
     "name": "stderr",
     "output_type": "stream",
     "text": [
      "experiment_3_06_0.98.keras: 100%|██████████| 585k/585k [00:00<00:00, 3.13MB/s]\n"
     ]
    },
    {
     "name": "stdout",
     "output_type": "stream",
     "text": [
      "Uploaded experiment_3_06_0.98.keras to experiment_3_06_0.98.keras\n"
     ]
    }
   ],
   "source": [
    "upload_models_in_dir(models_root_dir)"
   ]
  },
  {
   "cell_type": "code",
   "execution_count": 9,
   "id": "26ff8584",
   "metadata": {},
   "outputs": [],
   "source": [
    "## upload all the datasets to the repository\n",
    "data_root_dir = Path(\"..\", \"data\")\n",
    "\n",
    "def upload_data_in_dir(data_dir):\n",
    "    for dataset in data_dir.iterdir():\n",
    "        if dataset.is_dir():\n",
    "            upload_data_in_dir(dataset)\n",
    "        else: \n",
    "            filename = dataset.name\n",
    "            ## read path relative to the models directory\n",
    "            path = dataset.relative_to(data_root_dir)\n",
    "            path_in_repo = f\"{path}\"\n",
    "            api = HfApi()\n",
    "            api.upload_file(path_or_fileobj=dataset, repo_id=repo_id, path_in_repo=path_in_repo, repo_type=\"dataset\")\n",
    "            print(f\"Uploaded {filename} to {path}\")"
   ]
  },
  {
   "cell_type": "code",
   "execution_count": 10,
   "id": "c985e901",
   "metadata": {},
   "outputs": [
    {
     "name": "stderr",
     "output_type": "stream",
     "text": [
      "No files have been modified since last commit. Skipping to prevent empty commit.\n"
     ]
    },
    {
     "name": "stdout",
     "output_type": "stream",
     "text": [
      "Uploaded val_set.csv to val_set.csv\n"
     ]
    },
    {
     "name": "stderr",
     "output_type": "stream",
     "text": [
      "No files have been modified since last commit. Skipping to prevent empty commit.\n"
     ]
    },
    {
     "name": "stdout",
     "output_type": "stream",
     "text": [
      "Uploaded test_set.csv to test_set.csv\n"
     ]
    },
    {
     "name": "stderr",
     "output_type": "stream",
     "text": [
      "No files have been modified since last commit. Skipping to prevent empty commit.\n"
     ]
    },
    {
     "name": "stdout",
     "output_type": "stream",
     "text": [
      "Uploaded raw_mnist_data.csv to raw_mnist_data.csv\n"
     ]
    },
    {
     "name": "stderr",
     "output_type": "stream",
     "text": [
      "No files have been modified since last commit. Skipping to prevent empty commit.\n"
     ]
    },
    {
     "name": "stdout",
     "output_type": "stream",
     "text": [
      "Uploaded train_set.csv to train_set.csv\n"
     ]
    }
   ],
   "source": [
    "upload_data_in_dir(data_root_dir)"
   ]
  },
  {
   "cell_type": "code",
   "execution_count": null,
   "id": "764f51a4",
   "metadata": {},
   "outputs": [],
   "source": []
  }
 ],
 "metadata": {
  "kernelspec": {
   "display_name": "venv",
   "language": "python",
   "name": "python3"
  },
  "language_info": {
   "codemirror_mode": {
    "name": "ipython",
    "version": 3
   },
   "file_extension": ".py",
   "mimetype": "text/x-python",
   "name": "python",
   "nbconvert_exporter": "python",
   "pygments_lexer": "ipython3",
   "version": "3.12.2"
  }
 },
 "nbformat": 4,
 "nbformat_minor": 5
}

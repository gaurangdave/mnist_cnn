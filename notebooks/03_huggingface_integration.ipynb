{
 "cells": [
  {
   "cell_type": "markdown",
   "id": "4f960747",
   "metadata": {},
   "source": [
    "# Huggingface Integration"
   ]
  },
  {
   "cell_type": "code",
   "execution_count": 1,
   "id": "72afed58",
   "metadata": {},
   "outputs": [],
   "source": [
    "from huggingface_hub import login, HfApi\n",
    "import os\n",
    "import sys\n",
    "import dotenv\n",
    "from pathlib import Path"
   ]
  },
  {
   "cell_type": "code",
   "execution_count": 3,
   "id": "e9b65f05",
   "metadata": {},
   "outputs": [
    {
     "name": "stderr",
     "output_type": "stream",
     "text": [
      "Note: Environment variable`HF_TOKEN` is set and is the current active token independently from the token you've just configured.\n"
     ]
    },
    {
     "name": "stdout",
     "output_type": "stream",
     "text": [
      "Logging in...\n"
     ]
    }
   ],
   "source": [
    "dotenv.load_dotenv()\n",
    "HF_TOKEN = os.getenv(\"HF_TOKEN\")\n",
    "\n",
    "## login huggingface user\n",
    "if HF_TOKEN is None:\n",
    "    print(\"Please set the HF_TOKEN environment variable. This is you hugging face token\")\n",
    "else:\n",
    "    print(\"Logging in...\")\n",
    "    login(HF_TOKEN)"
   ]
  },
  {
   "cell_type": "code",
   "execution_count": 4,
   "id": "cbe17472",
   "metadata": {},
   "outputs": [
    {
     "name": "stdout",
     "output_type": "stream",
     "text": [
      "Logged in as gaurangdave\n"
     ]
    }
   ],
   "source": [
    "## verify login\n",
    "api = HfApi()\n",
    "user = api.whoami()\n",
    "user_name = user['name']\n",
    "print(f\"Logged in as {user_name}\")"
   ]
  },
  {
   "cell_type": "code",
   "execution_count": 5,
   "id": "e26cc949",
   "metadata": {},
   "outputs": [
    {
     "name": "stdout",
     "output_type": "stream",
     "text": [
      "Created repository: https://huggingface.co/gaurangdave/mnist_cnn\n",
      "Created repository: https://huggingface.co/datasets/gaurangdave/mnist_cnn\n"
     ]
    }
   ],
   "source": [
    "## create a model repository on huggingface\n",
    "model_name = \"mnist_cnn\"\n",
    "repo_id = f\"{user_name}/{model_name}\"\n",
    "\n",
    "## create a model repository\n",
    "model_repo = api.create_repo(repo_id=repo_id, repo_type=\"model\", exist_ok=True)\n",
    "print(f\"Created repository: {model_repo}\")\n",
    "\n",
    "## create a data repository\n",
    "model_repo = api.create_repo(repo_id=repo_id, repo_type=\"dataset\", exist_ok=True)\n",
    "print(f\"Created repository: {model_repo}\")"
   ]
  },
  {
   "cell_type": "code",
   "execution_count": 6,
   "id": "a4fec715",
   "metadata": {},
   "outputs": [],
   "source": [
    "## upload all the models to the repository\n",
    "models_root_dir = Path(\"..\", \"models\")\n",
    "\n",
    "def upload_models_in_dir(model_dir):\n",
    "    for model in model_dir.iterdir():\n",
    "        if model.is_dir():\n",
    "            upload_models_in_dir(model)\n",
    "        else: \n",
    "            filename = model.name\n",
    "            ## read path relative to the models directory\n",
    "            path = model.relative_to(models_root_dir)\n",
    "            path_in_repo = f\"{path}\"\n",
    "            api = HfApi()\n",
    "            api.upload_file(path_or_fileobj=model, repo_id=repo_id, path_in_repo=path_in_repo, repo_type=\"model\")\n",
    "            print(f\"Uploaded {filename} to {path}\")"
   ]
  },
  {
   "cell_type": "code",
   "execution_count": 7,
   "id": "5fe99842",
   "metadata": {},
   "outputs": [
    {
     "data": {
      "application/vnd.jupyter.widget-view+json": {
       "model_id": "c1f590ab8632423a8eb292a4bc8d1e47",
       "version_major": 2,
       "version_minor": 0
      },
      "text/plain": [
       "experiment_4_06.keras:   0%|          | 0.00/746k [00:00<?, ?B/s]"
      ]
     },
     "metadata": {},
     "output_type": "display_data"
    },
    {
     "name": "stdout",
     "output_type": "stream",
     "text": [
      "Uploaded experiment_4_06.keras to experiment_4_06.keras\n"
     ]
    },
    {
     "data": {
      "application/vnd.jupyter.widget-view+json": {
       "model_id": "3ce17513e39448f98a45d794b3e45271",
       "version_major": 2,
       "version_minor": 0
      },
      "text/plain": [
       "experiment_3_21_0.99.keras:   0%|          | 0.00/585k [00:00<?, ?B/s]"
      ]
     },
     "metadata": {},
     "output_type": "display_data"
    },
    {
     "name": "stdout",
     "output_type": "stream",
     "text": [
      "Uploaded experiment_3_21_0.99.keras to experiment_3_21_0.99.keras\n"
     ]
    },
    {
     "data": {
      "application/vnd.jupyter.widget-view+json": {
       "model_id": "3202e83816954a7bb7a62593ae4707e7",
       "version_major": 2,
       "version_minor": 0
      },
      "text/plain": [
       "experiment_3_06_0.97.keras:   0%|          | 0.00/585k [00:00<?, ?B/s]"
      ]
     },
     "metadata": {},
     "output_type": "display_data"
    },
    {
     "name": "stdout",
     "output_type": "stream",
     "text": [
      "Uploaded experiment_3_06_0.97.keras to experiment_3_06_0.97.keras\n"
     ]
    },
    {
     "data": {
      "application/vnd.jupyter.widget-view+json": {
       "model_id": "db7f35075fa141839c9d68fe531bfdc5",
       "version_major": 2,
       "version_minor": 0
      },
      "text/plain": [
       "experiment_3_01_0.93.keras:   0%|          | 0.00/585k [00:00<?, ?B/s]"
      ]
     },
     "metadata": {},
     "output_type": "display_data"
    },
    {
     "name": "stdout",
     "output_type": "stream",
     "text": [
      "Uploaded experiment_3_01_0.93.keras to experiment_3_01_0.93.keras\n"
     ]
    },
    {
     "data": {
      "application/vnd.jupyter.widget-view+json": {
       "model_id": "29447e9bf75a465ba0e6296bd77788b7",
       "version_major": 2,
       "version_minor": 0
      },
      "text/plain": [
       "experiment_4_32.keras:   0%|          | 0.00/746k [00:00<?, ?B/s]"
      ]
     },
     "metadata": {},
     "output_type": "display_data"
    },
    {
     "name": "stdout",
     "output_type": "stream",
     "text": [
      "Uploaded experiment_4_32.keras to experiment_4_32.keras\n"
     ]
    },
    {
     "data": {
      "application/vnd.jupyter.widget-view+json": {
       "model_id": "c47554a464384399a489e87616150741",
       "version_major": 2,
       "version_minor": 0
      },
      "text/plain": [
       "experiment_4_04.keras:   0%|          | 0.00/746k [00:00<?, ?B/s]"
      ]
     },
     "metadata": {},
     "output_type": "display_data"
    },
    {
     "name": "stdout",
     "output_type": "stream",
     "text": [
      "Uploaded experiment_4_04.keras to experiment_4_04.keras\n"
     ]
    },
    {
     "data": {
      "application/vnd.jupyter.widget-view+json": {
       "model_id": "f66323a1f68b42ec872a6e5667f0631d",
       "version_major": 2,
       "version_minor": 0
      },
      "text/plain": [
       "experiment_3_05_0.97.keras:   0%|          | 0.00/585k [00:00<?, ?B/s]"
      ]
     },
     "metadata": {},
     "output_type": "display_data"
    },
    {
     "name": "stdout",
     "output_type": "stream",
     "text": [
      "Uploaded experiment_3_05_0.97.keras to experiment_3_05_0.97.keras\n"
     ]
    },
    {
     "data": {
      "application/vnd.jupyter.widget-view+json": {
       "model_id": "78080246f4e24062ad55c9680f9367d5",
       "version_major": 2,
       "version_minor": 0
      },
      "text/plain": [
       "experiment_3_70_0.99.keras:   0%|          | 0.00/585k [00:00<?, ?B/s]"
      ]
     },
     "metadata": {},
     "output_type": "display_data"
    },
    {
     "name": "stdout",
     "output_type": "stream",
     "text": [
      "Uploaded experiment_3_70_0.99.keras to experiment_3_70_0.99.keras\n"
     ]
    },
    {
     "data": {
      "application/vnd.jupyter.widget-view+json": {
       "model_id": "ea6ae530a49649c1b8f958cb1944cae0",
       "version_major": 2,
       "version_minor": 0
      },
      "text/plain": [
       "experiment_3_02_0.95.keras:   0%|          | 0.00/585k [00:00<?, ?B/s]"
      ]
     },
     "metadata": {},
     "output_type": "display_data"
    },
    {
     "name": "stdout",
     "output_type": "stream",
     "text": [
      "Uploaded experiment_3_02_0.95.keras to experiment_3_02_0.95.keras\n"
     ]
    },
    {
     "data": {
      "application/vnd.jupyter.widget-view+json": {
       "model_id": "db07484dff19492482d832538fef6a60",
       "version_major": 2,
       "version_minor": 0
      },
      "text/plain": [
       "experiment_4_07.keras:   0%|          | 0.00/746k [00:00<?, ?B/s]"
      ]
     },
     "metadata": {},
     "output_type": "display_data"
    },
    {
     "name": "stdout",
     "output_type": "stream",
     "text": [
      "Uploaded experiment_4_07.keras to experiment_4_07.keras\n"
     ]
    },
    {
     "data": {
      "application/vnd.jupyter.widget-view+json": {
       "model_id": "77c550758cb442dc83e0aadf4f1fba75",
       "version_major": 2,
       "version_minor": 0
      },
      "text/plain": [
       "experiment_3_26_0.99.keras:   0%|          | 0.00/585k [00:00<?, ?B/s]"
      ]
     },
     "metadata": {},
     "output_type": "display_data"
    },
    {
     "name": "stdout",
     "output_type": "stream",
     "text": [
      "Uploaded experiment_3_26_0.99.keras to experiment_3_26_0.99.keras\n"
     ]
    },
    {
     "data": {
      "application/vnd.jupyter.widget-view+json": {
       "model_id": "55531f366f264205ba94d914d77b3006",
       "version_major": 2,
       "version_minor": 0
      },
      "text/plain": [
       "experiment_3_03_0.96.keras:   0%|          | 0.00/585k [00:00<?, ?B/s]"
      ]
     },
     "metadata": {},
     "output_type": "display_data"
    },
    {
     "name": "stdout",
     "output_type": "stream",
     "text": [
      "Uploaded experiment_3_03_0.96.keras to experiment_3_03_0.96.keras\n"
     ]
    },
    {
     "data": {
      "application/vnd.jupyter.widget-view+json": {
       "model_id": "e3ccd1d04a044592b9080053e4075f1b",
       "version_major": 2,
       "version_minor": 0
      },
      "text/plain": [
       "experiment_3_07_0.98.keras:   0%|          | 0.00/585k [00:00<?, ?B/s]"
      ]
     },
     "metadata": {},
     "output_type": "display_data"
    },
    {
     "name": "stdout",
     "output_type": "stream",
     "text": [
      "Uploaded experiment_3_07_0.98.keras to experiment_3_07_0.98.keras\n"
     ]
    },
    {
     "data": {
      "application/vnd.jupyter.widget-view+json": {
       "model_id": "a12d25f1dcd24cbdb46ecbc7a3060575",
       "version_major": 2,
       "version_minor": 0
      },
      "text/plain": [
       "experiment_4_27.keras:   0%|          | 0.00/746k [00:00<?, ?B/s]"
      ]
     },
     "metadata": {},
     "output_type": "display_data"
    },
    {
     "name": "stdout",
     "output_type": "stream",
     "text": [
      "Uploaded experiment_4_27.keras to experiment_4_27.keras\n"
     ]
    },
    {
     "data": {
      "application/vnd.jupyter.widget-view+json": {
       "model_id": "2e9583a023324d7d9d2de3d87b97599f",
       "version_major": 2,
       "version_minor": 0
      },
      "text/plain": [
       "experiment_4_13.keras:   0%|          | 0.00/746k [00:00<?, ?B/s]"
      ]
     },
     "metadata": {},
     "output_type": "display_data"
    },
    {
     "name": "stdout",
     "output_type": "stream",
     "text": [
      "Uploaded experiment_4_13.keras to experiment_4_13.keras\n"
     ]
    },
    {
     "data": {
      "application/vnd.jupyter.widget-view+json": {
       "model_id": "f837d93ee2a744c2823ab3422c2298ba",
       "version_major": 2,
       "version_minor": 0
      },
      "text/plain": [
       "experiment_4_02.keras:   0%|          | 0.00/746k [00:00<?, ?B/s]"
      ]
     },
     "metadata": {},
     "output_type": "display_data"
    },
    {
     "name": "stdout",
     "output_type": "stream",
     "text": [
      "Uploaded experiment_4_02.keras to experiment_4_02.keras\n"
     ]
    },
    {
     "data": {
      "application/vnd.jupyter.widget-view+json": {
       "model_id": "14f805f812d4489481b79fd6ac941b52",
       "version_major": 2,
       "version_minor": 0
      },
      "text/plain": [
       "experiment_4_01.keras:   0%|          | 0.00/746k [00:00<?, ?B/s]"
      ]
     },
     "metadata": {},
     "output_type": "display_data"
    },
    {
     "name": "stdout",
     "output_type": "stream",
     "text": [
      "Uploaded experiment_4_01.keras to experiment_4_01.keras\n"
     ]
    },
    {
     "data": {
      "application/vnd.jupyter.widget-view+json": {
       "model_id": "47a77454bea743b5928269069165f56d",
       "version_major": 2,
       "version_minor": 0
      },
      "text/plain": [
       "experiment_3_10_0.98.keras:   0%|          | 0.00/585k [00:00<?, ?B/s]"
      ]
     },
     "metadata": {},
     "output_type": "display_data"
    },
    {
     "name": "stdout",
     "output_type": "stream",
     "text": [
      "Uploaded experiment_3_10_0.98.keras to experiment_3_10_0.98.keras\n"
     ]
    },
    {
     "data": {
      "application/vnd.jupyter.widget-view+json": {
       "model_id": "5afa9306564e4b7680b952302c525dcd",
       "version_major": 2,
       "version_minor": 0
      },
      "text/plain": [
       "experiment_4_45.keras:   0%|          | 0.00/746k [00:00<?, ?B/s]"
      ]
     },
     "metadata": {},
     "output_type": "display_data"
    },
    {
     "name": "stdout",
     "output_type": "stream",
     "text": [
      "Uploaded experiment_4_45.keras to experiment_4_45.keras\n"
     ]
    },
    {
     "data": {
      "application/vnd.jupyter.widget-view+json": {
       "model_id": "aab9e2bc19be448aad370582974b42be",
       "version_major": 2,
       "version_minor": 0
      },
      "text/plain": [
       "experiment_4_03.keras:   0%|          | 0.00/746k [00:00<?, ?B/s]"
      ]
     },
     "metadata": {},
     "output_type": "display_data"
    },
    {
     "name": "stdout",
     "output_type": "stream",
     "text": [
      "Uploaded experiment_4_03.keras to experiment_4_03.keras\n"
     ]
    },
    {
     "data": {
      "application/vnd.jupyter.widget-view+json": {
       "model_id": "d4d7fce1c5354ffc91ae6ac6dcb360a8",
       "version_major": 2,
       "version_minor": 0
      },
      "text/plain": [
       "experiment_3_04_0.96.keras:   0%|          | 0.00/585k [00:00<?, ?B/s]"
      ]
     },
     "metadata": {},
     "output_type": "display_data"
    },
    {
     "name": "stdout",
     "output_type": "stream",
     "text": [
      "Uploaded experiment_3_04_0.96.keras to experiment_3_04_0.96.keras\n"
     ]
    },
    {
     "data": {
      "application/vnd.jupyter.widget-view+json": {
       "model_id": "a623b91be10c4350a45903ad3d864ef6",
       "version_major": 2,
       "version_minor": 0
      },
      "text/plain": [
       "experiment_4_75.keras:   0%|          | 0.00/746k [00:00<?, ?B/s]"
      ]
     },
     "metadata": {},
     "output_type": "display_data"
    },
    {
     "name": "stdout",
     "output_type": "stream",
     "text": [
      "Uploaded experiment_4_75.keras to experiment_4_75.keras\n"
     ]
    },
    {
     "data": {
      "application/vnd.jupyter.widget-view+json": {
       "model_id": "7ef93b7da9dc4fd9ab99bbd48bf2dc8d",
       "version_major": 2,
       "version_minor": 0
      },
      "text/plain": [
       "experiment_4_12.keras:   0%|          | 0.00/746k [00:00<?, ?B/s]"
      ]
     },
     "metadata": {},
     "output_type": "display_data"
    },
    {
     "name": "stdout",
     "output_type": "stream",
     "text": [
      "Uploaded experiment_4_12.keras to experiment_4_12.keras\n"
     ]
    },
    {
     "data": {
      "application/vnd.jupyter.widget-view+json": {
       "model_id": "344b3fd3417b4bed8376ebab9f98dbe6",
       "version_major": 2,
       "version_minor": 0
      },
      "text/plain": [
       "experiment_3_14_0.99.keras:   0%|          | 0.00/585k [00:00<?, ?B/s]"
      ]
     },
     "metadata": {},
     "output_type": "display_data"
    },
    {
     "name": "stdout",
     "output_type": "stream",
     "text": [
      "Uploaded experiment_3_14_0.99.keras to experiment_3_14_0.99.keras\n"
     ]
    },
    {
     "data": {
      "application/vnd.jupyter.widget-view+json": {
       "model_id": "dcfd5580572b4d2ab78f505d7540d499",
       "version_major": 2,
       "version_minor": 0
      },
      "text/plain": [
       "experiment_4_05.keras:   0%|          | 0.00/746k [00:00<?, ?B/s]"
      ]
     },
     "metadata": {},
     "output_type": "display_data"
    },
    {
     "name": "stdout",
     "output_type": "stream",
     "text": [
      "Uploaded experiment_4_05.keras to experiment_4_05.keras\n"
     ]
    }
   ],
   "source": [
    "upload_models_in_dir(models_root_dir)"
   ]
  },
  {
   "cell_type": "code",
   "execution_count": 8,
   "id": "26ff8584",
   "metadata": {},
   "outputs": [],
   "source": [
    "## upload all the datasets to the repository\n",
    "data_root_dir = Path(\"..\", \"data\")\n",
    "\n",
    "def upload_data_in_dir(data_dir):\n",
    "    for dataset in data_dir.iterdir():\n",
    "        if dataset.is_dir():\n",
    "            upload_data_in_dir(dataset)\n",
    "        else: \n",
    "            filename = dataset.name\n",
    "            ## read path relative to the models directory\n",
    "            path = dataset.relative_to(data_root_dir)\n",
    "            path_in_repo = f\"{path}\"\n",
    "            api = HfApi()\n",
    "            api.upload_file(path_or_fileobj=dataset, repo_id=repo_id, path_in_repo=path_in_repo, repo_type=\"dataset\")\n",
    "            print(f\"Uploaded {filename} to {path}\")"
   ]
  },
  {
   "cell_type": "code",
   "execution_count": 9,
   "id": "c985e901",
   "metadata": {},
   "outputs": [
    {
     "data": {
      "application/vnd.jupyter.widget-view+json": {
       "model_id": "420c9adaef2e498aaf073f29eedc2000",
       "version_major": 2,
       "version_minor": 0
      },
      "text/plain": [
       "val_set.csv:   0%|          | 0.00/11.5M [00:00<?, ?B/s]"
      ]
     },
     "metadata": {},
     "output_type": "display_data"
    },
    {
     "name": "stdout",
     "output_type": "stream",
     "text": [
      "Uploaded val_set.csv to val_set.csv\n"
     ]
    },
    {
     "data": {
      "application/vnd.jupyter.widget-view+json": {
       "model_id": "62edc0cb6b66422c94fac16e02edbbbf",
       "version_major": 2,
       "version_minor": 0
      },
      "text/plain": [
       "test_set.csv:   0%|          | 0.00/12.8M [00:00<?, ?B/s]"
      ]
     },
     "metadata": {},
     "output_type": "display_data"
    },
    {
     "name": "stdout",
     "output_type": "stream",
     "text": [
      "Uploaded test_set.csv to test_set.csv\n"
     ]
    },
    {
     "data": {
      "application/vnd.jupyter.widget-view+json": {
       "model_id": "95ffe10106f9415b9b049715b02f88d1",
       "version_major": 2,
       "version_minor": 0
      },
      "text/plain": [
       "raw_mnist_data.csv:   0%|          | 0.00/128M [00:00<?, ?B/s]"
      ]
     },
     "metadata": {},
     "output_type": "display_data"
    },
    {
     "name": "stdout",
     "output_type": "stream",
     "text": [
      "Uploaded raw_mnist_data.csv to raw_mnist_data.csv\n"
     ]
    },
    {
     "data": {
      "application/vnd.jupyter.widget-view+json": {
       "model_id": "01c703f37a58426aa00d5e51343f2824",
       "version_major": 2,
       "version_minor": 0
      },
      "text/plain": [
       "train_set.csv:   0%|          | 0.00/104M [00:00<?, ?B/s]"
      ]
     },
     "metadata": {},
     "output_type": "display_data"
    },
    {
     "name": "stdout",
     "output_type": "stream",
     "text": [
      "Uploaded train_set.csv to train_set.csv\n"
     ]
    }
   ],
   "source": [
    "upload_data_in_dir(data_root_dir)"
   ]
  },
  {
   "cell_type": "code",
   "execution_count": null,
   "id": "764f51a4",
   "metadata": {},
   "outputs": [],
   "source": []
  }
 ],
 "metadata": {
  "kernelspec": {
   "display_name": "ml",
   "language": "python",
   "name": "python3"
  },
  "language_info": {
   "codemirror_mode": {
    "name": "ipython",
    "version": 3
   },
   "file_extension": ".py",
   "mimetype": "text/x-python",
   "name": "python",
   "nbconvert_exporter": "python",
   "pygments_lexer": "ipython3",
   "version": "3.12.2"
  }
 },
 "nbformat": 4,
 "nbformat_minor": 5
}
